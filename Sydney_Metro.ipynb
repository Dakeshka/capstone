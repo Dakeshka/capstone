{
 "cells": [
  {
   "cell_type": "markdown",
   "metadata": {},
   "source": [
    "<h1> Sydney Metro Data Science </h1>\n"
   ]
  },
  {
   "cell_type": "markdown",
   "metadata": {},
   "source": [
    "Import libraries"
   ]
  },
  {
   "cell_type": "code",
   "execution_count": 5,
   "metadata": {},
   "outputs": [
    {
     "name": "stdout",
     "output_type": "stream",
     "text": [
      "Solving environment: done\n",
      "\n",
      "# All requested packages already installed.\n",
      "\n",
      "Solving environment: done\n",
      "\n",
      "# All requested packages already installed.\n",
      "\n",
      "Libraries imported.\n"
     ]
    }
   ],
   "source": [
    "import numpy as np # library to handle data in a vectorized manner\n",
    "\n",
    "import pandas as pd # library for data analsysis\n",
    "pd.set_option('display.max_columns', None)\n",
    "pd.set_option('display.max_rows', None)\n",
    "\n",
    "import json # library to handle JSON files\n",
    "\n",
    "!conda install -c conda-forge geopy --yes # uncomment this line if you haven't completed the Foursquare API lab\n",
    "from geopy.geocoders import Nominatim # convert an address into latitude and longitude values\n",
    "\n",
    "import requests # library to handle requests\n",
    "from pandas.io.json import json_normalize # tranform JSON file into a pandas dataframe\n",
    "\n",
    "# Matplotlib and associated plotting modules\n",
    "import matplotlib.cm as cm\n",
    "import matplotlib.colors as colors\n",
    "\n",
    "# import k-means from clustering stage\n",
    "from sklearn.cluster import KMeans\n",
    "\n",
    "!conda install -c conda-forge folium=0.5.0 --yes # uncomment this line if you haven't completed the Foursquare API lab\n",
    "import folium # map rendering library\n",
    "\n",
    "print('Libraries imported.')"
   ]
  },
  {
   "cell_type": "markdown",
   "metadata": {},
   "source": [
    "## 1. Download and Explore Dataset"
   ]
  },
  {
   "cell_type": "code",
   "execution_count": 36,
   "metadata": {},
   "outputs": [
    {
     "data": {
      "text/html": [
       "<div>\n",
       "<style scoped>\n",
       "    .dataframe tbody tr th:only-of-type {\n",
       "        vertical-align: middle;\n",
       "    }\n",
       "\n",
       "    .dataframe tbody tr th {\n",
       "        vertical-align: top;\n",
       "    }\n",
       "\n",
       "    .dataframe thead th {\n",
       "        text-align: right;\n",
       "    }\n",
       "</style>\n",
       "<table border=\"1\" class=\"dataframe\">\n",
       "  <thead>\n",
       "    <tr style=\"text-align: right;\">\n",
       "      <th></th>\n",
       "      <th>id</th>\n",
       "      <th>postcode</th>\n",
       "      <th>suburb</th>\n",
       "      <th>state</th>\n",
       "      <th>latitude</th>\n",
       "      <th>longitude</th>\n",
       "    </tr>\n",
       "  </thead>\n",
       "  <tbody>\n",
       "    <tr>\n",
       "      <th>0</th>\n",
       "      <td>398</td>\n",
       "      <td>1001</td>\n",
       "      <td>Sydney</td>\n",
       "      <td>NSW</td>\n",
       "      <td>-33.79</td>\n",
       "      <td>151.27</td>\n",
       "    </tr>\n",
       "    <tr>\n",
       "      <th>1</th>\n",
       "      <td>399</td>\n",
       "      <td>1002</td>\n",
       "      <td>Sydney</td>\n",
       "      <td>NSW</td>\n",
       "      <td>-33.79</td>\n",
       "      <td>151.27</td>\n",
       "    </tr>\n",
       "    <tr>\n",
       "      <th>2</th>\n",
       "      <td>400</td>\n",
       "      <td>1003</td>\n",
       "      <td>Sydney</td>\n",
       "      <td>NSW</td>\n",
       "      <td>-33.79</td>\n",
       "      <td>151.27</td>\n",
       "    </tr>\n",
       "    <tr>\n",
       "      <th>3</th>\n",
       "      <td>401</td>\n",
       "      <td>1004</td>\n",
       "      <td>Sydney</td>\n",
       "      <td>NSW</td>\n",
       "      <td>-33.79</td>\n",
       "      <td>151.27</td>\n",
       "    </tr>\n",
       "    <tr>\n",
       "      <th>4</th>\n",
       "      <td>402</td>\n",
       "      <td>1005</td>\n",
       "      <td>Sydney</td>\n",
       "      <td>NSW</td>\n",
       "      <td>-33.79</td>\n",
       "      <td>151.27</td>\n",
       "    </tr>\n",
       "  </tbody>\n",
       "</table>\n",
       "</div>"
      ],
      "text/plain": [
       "    id  postcode  suburb state  latitude  longitude\n",
       "0  398      1001  Sydney   NSW    -33.79     151.27\n",
       "1  399      1002  Sydney   NSW    -33.79     151.27\n",
       "2  400      1003  Sydney   NSW    -33.79     151.27\n",
       "3  401      1004  Sydney   NSW    -33.79     151.27\n",
       "4  402      1005  Sydney   NSW    -33.79     151.27"
      ]
     },
     "execution_count": 36,
     "metadata": {},
     "output_type": "execute_result"
    }
   ],
   "source": [
    "import pandas as pd\n",
    "\n",
    "\n",
    " \n",
    "df = pd.read_csv('postcodes.csv')\n",
    "\n",
    "\n",
    "df.head()\n",
    "#df.shape\n",
    "\n",
    "    \n",
    "    "
   ]
  },
  {
   "cell_type": "markdown",
   "metadata": {},
   "source": [
    "Define a function to get GPS for a suburb"
   ]
  },
  {
   "cell_type": "markdown",
   "metadata": {},
   "source": [
    "#### Data filtering"
   ]
  },
  {
   "cell_type": "code",
   "execution_count": 37,
   "metadata": {},
   "outputs": [
    {
     "data": {
      "text/plain": [
       "(4592, 4)"
      ]
     },
     "execution_count": 37,
     "metadata": {},
     "output_type": "execute_result"
    }
   ],
   "source": [
    "df=df[['postcode','suburb','longitude','latitude']]\n",
    "df=df.drop_duplicates(subset=['suburb'], keep='first')\n",
    "df = df[df.longitude != 0.00]\n",
    "#df.head(10)\n",
    "df.shape\n"
   ]
  },
  {
   "cell_type": "code",
   "execution_count": 43,
   "metadata": {},
   "outputs": [
    {
     "name": "stderr",
     "output_type": "stream",
     "text": [
      "/home/jupyterlab/conda/lib/python3.6/site-packages/geopy/geocoders/osm.py:143: UserWarning: Using Nominatim with the default \"geopy/1.17.0\" `user_agent` is strongly discouraged, as it violates Nominatim's ToS https://operations.osmfoundation.org/policies/nominatim/ and may possibly cause 403 and 429 HTTP errors. Please specify a custom `user_agent` with `Nominatim(user_agent=\"my-application\")` or by overriding the default `user_agent`: `geopy.geocoders.options.default_user_agent = \"my-application\"`. In geopy 2.0 this will become an exception.\n",
      "  UserWarning\n"
     ]
    },
    {
     "name": "stdout",
     "output_type": "stream",
     "text": [
      "The geograpical coordinate of Sydney are -33.7497631, 151.0657475.\n"
     ]
    }
   ],
   "source": [
    "address = 'Beecroft, NSW'\n",
    "\n",
    "geolocator = Nominatim()\n",
    "location = geolocator.geocode(address)\n",
    "latitude = location.latitude\n",
    "longitude = location.longitude\n",
    "print('The geograpical coordinate of Sydney are {}, {}.'.format(latitude, longitude))\n"
   ]
  },
  {
   "cell_type": "code",
   "execution_count": 39,
   "metadata": {},
   "outputs": [
    {
     "data": {
      "text/html": [
       "<div>\n",
       "<style scoped>\n",
       "    .dataframe tbody tr th:only-of-type {\n",
       "        vertical-align: middle;\n",
       "    }\n",
       "\n",
       "    .dataframe tbody tr th {\n",
       "        vertical-align: top;\n",
       "    }\n",
       "\n",
       "    .dataframe thead th {\n",
       "        text-align: right;\n",
       "    }\n",
       "</style>\n",
       "<table border=\"1\" class=\"dataframe\">\n",
       "  <thead>\n",
       "    <tr style=\"text-align: right;\">\n",
       "      <th></th>\n",
       "      <th>postcode</th>\n",
       "      <th>suburb</th>\n",
       "      <th>longitude</th>\n",
       "      <th>latitude</th>\n",
       "    </tr>\n",
       "  </thead>\n",
       "  <tbody>\n",
       "    <tr>\n",
       "      <th>0</th>\n",
       "      <td>1001</td>\n",
       "      <td>Sydney</td>\n",
       "      <td>151.27</td>\n",
       "      <td>-33.79</td>\n",
       "    </tr>\n",
       "    <tr>\n",
       "      <th>141</th>\n",
       "      <td>1208</td>\n",
       "      <td>Haymarket</td>\n",
       "      <td>151.66</td>\n",
       "      <td>-29.82</td>\n",
       "    </tr>\n",
       "    <tr>\n",
       "      <th>142</th>\n",
       "      <td>1209</td>\n",
       "      <td>Australia Square</td>\n",
       "      <td>151.18</td>\n",
       "      <td>-33.89</td>\n",
       "    </tr>\n",
       "    <tr>\n",
       "      <th>149</th>\n",
       "      <td>1216</td>\n",
       "      <td>Grosvenor Place</td>\n",
       "      <td>151.03</td>\n",
       "      <td>-33.74</td>\n",
       "    </tr>\n",
       "    <tr>\n",
       "      <th>154</th>\n",
       "      <td>1221</td>\n",
       "      <td>Royal Exchange</td>\n",
       "      <td>151.21</td>\n",
       "      <td>-33.87</td>\n",
       "    </tr>\n",
       "    <tr>\n",
       "      <th>159</th>\n",
       "      <td>1226</td>\n",
       "      <td>Queen Victoria Building</td>\n",
       "      <td>151.21</td>\n",
       "      <td>-33.87</td>\n",
       "    </tr>\n",
       "    <tr>\n",
       "      <th>164</th>\n",
       "      <td>1231</td>\n",
       "      <td>Sydney South</td>\n",
       "      <td>151.04</td>\n",
       "      <td>-33.82</td>\n",
       "    </tr>\n",
       "    <tr>\n",
       "      <th>183</th>\n",
       "      <td>1300</td>\n",
       "      <td>Darlinghurst</td>\n",
       "      <td>151.22</td>\n",
       "      <td>-33.88</td>\n",
       "    </tr>\n",
       "    <tr>\n",
       "      <th>208</th>\n",
       "      <td>1335</td>\n",
       "      <td>Potts Point</td>\n",
       "      <td>151.12</td>\n",
       "      <td>-33.82</td>\n",
       "    </tr>\n",
       "    <tr>\n",
       "      <th>209</th>\n",
       "      <td>1340</td>\n",
       "      <td>Kings Cross</td>\n",
       "      <td>148.02</td>\n",
       "      <td>-35.54</td>\n",
       "    </tr>\n",
       "  </tbody>\n",
       "</table>\n",
       "</div>"
      ],
      "text/plain": [
       "     postcode                   suburb  longitude  latitude\n",
       "0        1001                   Sydney     151.27    -33.79\n",
       "141      1208                Haymarket     151.66    -29.82\n",
       "142      1209         Australia Square     151.18    -33.89\n",
       "149      1216          Grosvenor Place     151.03    -33.74\n",
       "154      1221           Royal Exchange     151.21    -33.87\n",
       "159      1226  Queen Victoria Building     151.21    -33.87\n",
       "164      1231             Sydney South     151.04    -33.82\n",
       "183      1300             Darlinghurst     151.22    -33.88\n",
       "208      1335              Potts Point     151.12    -33.82\n",
       "209      1340              Kings Cross     148.02    -35.54"
      ]
     },
     "execution_count": 39,
     "metadata": {},
     "output_type": "execute_result"
    }
   ],
   "source": [
    "df.head(10)"
   ]
  },
  {
   "cell_type": "markdown",
   "metadata": {},
   "source": [
    "#### Create a map of Sydney with neighborhoods superimposed on top."
   ]
  },
  {
   "cell_type": "code",
   "execution_count": 44,
   "metadata": {},
   "outputs": [
    {
     "data": {
      "text/html": [
       "<div style=\"width:100%;\"><div style=\"position:relative;width:100%;height:0;padding-bottom:60%;\"><iframe src=\"data:text/html;charset=utf-8;base64,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\" style=\"position:absolute;width:100%;height:100%;left:0;top:0;border:none !important;\" allowfullscreen webkitallowfullscreen mozallowfullscreen></iframe></div></div>"
      ],
      "text/plain": [
       "<folium.folium.Map at 0x7fc089a54cf8>"
      ]
     },
     "execution_count": 44,
     "metadata": {},
     "output_type": "execute_result"
    }
   ],
   "source": [
    "neighborhoods=df.head(100)\n",
    "map_sydney = folium.Map(location=[latitude, longitude], zoom_start=12)\n",
    "\n",
    "# add markers to map\n",
    "for lat, lng, suburb in zip(neighborhoods['latitude'], neighborhoods['longitude'], neighborhoods['suburb']):\n",
    "    label = '{}'.format(suburb)\n",
    "    label = folium.Popup(label, parse_html=True)\n",
    "    folium.CircleMarker(\n",
    "        [lat, lng],\n",
    "        radius=5,\n",
    "        popup=label,\n",
    "        color='blue',\n",
    "        fill=True,\n",
    "        fill_color='#3186cc',\n",
    "        fill_opacity=0.7,\n",
    "        parse_html=False).add_to(map_sydney)  \n",
    "    \n",
    "map_sydney"
   ]
  },
  {
   "cell_type": "markdown",
   "metadata": {},
   "source": [
    "#### Define Foursquare Credentials and Version"
   ]
  },
  {
   "cell_type": "code",
   "execution_count": 41,
   "metadata": {},
   "outputs": [
    {
     "name": "stdout",
     "output_type": "stream",
     "text": [
      "Your credentails:\n",
      "CLIENT_ID: VDFTNYUMJI3FIAI2E1GDVXWGMBJZYB30DCLYIJA5IIYQXX3F\n",
      "CLIENT_SECRET:ZQSBPY4I2RWWPXV1ZHWCHV4YQORZPEOSWGFNDV33GWE2T4CO\n"
     ]
    }
   ],
   "source": [
    "CLIENT_ID = 'VDFTNYUMJI3FIAI2E1GDVXWGMBJZYB30DCLYIJA5IIYQXX3F' # your Foursquare ID\n",
    "CLIENT_SECRET = 'ZQSBPY4I2RWWPXV1ZHWCHV4YQORZPEOSWGFNDV33GWE2T4CO' # your Foursquare Secret\n",
    "VERSION = '20180605' # Foursquare API version\n",
    "\n",
    "print('Your credentails:')\n",
    "print('CLIENT_ID: ' + CLIENT_ID)\n",
    "print('CLIENT_SECRET:' + CLIENT_SECRET)"
   ]
  },
  {
   "cell_type": "markdown",
   "metadata": {},
   "source": [
    "#### Let's explore the first neighborhood in our dataframe."
   ]
  },
  {
   "cell_type": "markdown",
   "metadata": {},
   "source": [
    "Get the neighborhood's name."
   ]
  },
  {
   "cell_type": "code",
   "execution_count": 67,
   "metadata": {},
   "outputs": [
    {
     "data": {
      "text/plain": [
       "151.06"
      ]
     },
     "execution_count": 67,
     "metadata": {},
     "output_type": "execute_result"
    }
   ],
   "source": [
    "#df_beecroft = df.loc[df['suburb'] == 'Beecroft']\n",
    "#df['suburb'].iloc[0]\n",
    "\n",
    "#df.query(suburb=='Beecroft')['longitude']\n",
    "\n",
    "df.loc[df['suburb'] == 'Beecroft', 'longitude'].iloc[0]\n"
   ]
  },
  {
   "cell_type": "code",
   "execution_count": 62,
   "metadata": {},
   "outputs": [
    {
     "data": {
      "text/plain": [
       "611    151.06\n",
       "Name: longitude, dtype: float64"
      ]
     },
     "execution_count": 62,
     "metadata": {},
     "output_type": "execute_result"
    }
   ],
   "source": [
    "df_beecroft['longitude']"
   ]
  },
  {
   "cell_type": "markdown",
   "metadata": {},
   "source": [
    "Get the neighborhood's latitude and longitude values."
   ]
  },
  {
   "cell_type": "code",
   "execution_count": 69,
   "metadata": {},
   "outputs": [
    {
     "name": "stdout",
     "output_type": "stream",
     "text": [
      "Latitude and longitude values of Beecroft are -33.75, 151.06.\n"
     ]
    }
   ],
   "source": [
    "#neighborhood_latitude = df['latitude'].iloc[0] # neighborhood latitude value\n",
    "#neighborhood_longitude = df['longitude'].iloc[0] # neighborhood longitude value\n",
    "#neighborhood_name = df['suburb'].iloc[0] # neighborhood name\n",
    "\n",
    "neighborhood_latitude = df.loc[df['suburb'] == 'Beecroft', 'latitude'].iloc[0] # neighborhood latitude value\n",
    "neighborhood_longitude = df.loc[df['suburb'] == 'Beecroft', 'longitude'].iloc[0] # neighborhood longitude value\n",
    "\n",
    "\n",
    "\n",
    "neighborhood_name = df.loc[df['suburb'] == 'Beecroft', 'suburb'].iloc[0] # neighborhood name\n",
    "\n",
    "\n",
    "print('Latitude and longitude values of {} are {}, {}.'.format(neighborhood_name, \n",
    "                                                               neighborhood_latitude, \n",
    "                                                               neighborhood_longitude))"
   ]
  },
  {
   "cell_type": "markdown",
   "metadata": {},
   "source": [
    "#### Now, let's get the top 100 venues that are in Beecroft within a radius of 500 meters."
   ]
  },
  {
   "cell_type": "markdown",
   "metadata": {},
   "source": [
    "First, let's create the GET request URL. Name your URL **url**."
   ]
  },
  {
   "cell_type": "code",
   "execution_count": 70,
   "metadata": {},
   "outputs": [
    {
     "data": {
      "text/plain": [
       "'https://api.foursquare.com/v2/venues/explore?&client_id=VDFTNYUMJI3FIAI2E1GDVXWGMBJZYB30DCLYIJA5IIYQXX3F&client_secret=ZQSBPY4I2RWWPXV1ZHWCHV4YQORZPEOSWGFNDV33GWE2T4CO&v=20180605&ll=-33.75,151.06&radius=500&limit=100'"
      ]
     },
     "execution_count": 70,
     "metadata": {},
     "output_type": "execute_result"
    }
   ],
   "source": [
    "# type your answer here\n",
    "LIMIT = 100\n",
    "radius = 500\n",
    "\n",
    "\n",
    "url = 'https://api.foursquare.com/v2/venues/explore?&client_id={}&client_secret={}&v={}&ll={},{}&radius={}&limit={}'.format(\n",
    "    CLIENT_ID, \n",
    "    CLIENT_SECRET, \n",
    "    VERSION, \n",
    "    neighborhood_latitude, \n",
    "    neighborhood_longitude, \n",
    "    radius, \n",
    "    LIMIT)\n",
    "url\n"
   ]
  },
  {
   "cell_type": "markdown",
   "metadata": {},
   "source": [
    "Send the GET request and examine the resutls"
   ]
  },
  {
   "cell_type": "code",
   "execution_count": 71,
   "metadata": {},
   "outputs": [
    {
     "data": {
      "text/plain": [
       "{'meta': {'code': 200, 'requestId': '5bb5ba4e4434b9433f32a9c2'},\n",
       " 'response': {'headerLocation': 'Beecroft',\n",
       "  'headerFullLocation': 'Beecroft, Sydney',\n",
       "  'headerLocationGranularity': 'neighborhood',\n",
       "  'totalResults': 7,\n",
       "  'suggestedBounds': {'ne': {'lat': -33.7454999955, 'lng': 151.065402004367},\n",
       "   'sw': {'lat': -33.7545000045, 'lng': 151.054597995633}},\n",
       "  'groups': [{'type': 'Recommended Places',\n",
       "    'name': 'recommended',\n",
       "    'items': [{'reasons': {'count': 0,\n",
       "       'items': [{'summary': 'This spot is popular',\n",
       "         'type': 'general',\n",
       "         'reasonName': 'globalInteractionReason'}]},\n",
       "      'venue': {'id': '59c9b11bf5e9d73dac18a3b0',\n",
       "       'name': 'Woolworths',\n",
       "       'location': {'address': '10 Hannah St',\n",
       "        'crossStreet': 'Beecroft Rd',\n",
       "        'lat': -33.74923225233269,\n",
       "        'lng': 151.06508016586304,\n",
       "        'labeledLatLngs': [{'label': 'display',\n",
       "          'lat': -33.74923225233269,\n",
       "          'lng': 151.06508016586304}],\n",
       "        'distance': 477,\n",
       "        'postalCode': '2119',\n",
       "        'cc': 'AU',\n",
       "        'neighborhood': 'Beecroft',\n",
       "        'city': 'Sydney',\n",
       "        'state': 'NSW',\n",
       "        'country': 'Australia',\n",
       "        'formattedAddress': ['10 Hannah St (Beecroft Rd)',\n",
       "         'Sydney NSW 2119',\n",
       "         'Australia']},\n",
       "       'categories': [{'id': '52f2ab2ebcbc57f1066b8b46',\n",
       "         'name': 'Supermarket',\n",
       "         'pluralName': 'Supermarkets',\n",
       "         'shortName': 'Supermarket',\n",
       "         'icon': {'prefix': 'https://ss3.4sqi.net/img/categories_v2/shops/food_grocery_',\n",
       "          'suffix': '.png'},\n",
       "         'primary': True}],\n",
       "       'photos': {'count': 0, 'groups': []}},\n",
       "      'referralId': 'e-0-59c9b11bf5e9d73dac18a3b0-0'},\n",
       "     {'reasons': {'count': 0,\n",
       "       'items': [{'summary': 'This spot is popular',\n",
       "         'type': 'general',\n",
       "         'reasonName': 'globalInteractionReason'}]},\n",
       "      'venue': {'id': '4c3a7ee393db0f47be522592',\n",
       "       'name': 'Yummy Kitchens',\n",
       "       'location': {'address': '103-105 Beecroft Rd.',\n",
       "        'crossStreet': 'nr Hannah St.',\n",
       "        'lat': -33.75019,\n",
       "        'lng': 151.064923,\n",
       "        'labeledLatLngs': [{'label': 'display',\n",
       "          'lat': -33.75019,\n",
       "          'lng': 151.064923}],\n",
       "        'distance': 456,\n",
       "        'postalCode': '2119',\n",
       "        'cc': 'AU',\n",
       "        'state': 'New South Wales',\n",
       "        'country': 'Australia',\n",
       "        'formattedAddress': ['103-105 Beecroft Rd. (nr Hannah St.)',\n",
       "         'Beecroft NSW 2119',\n",
       "         'Australia']},\n",
       "       'categories': [{'id': '4bf58dd8d48988d145941735',\n",
       "         'name': 'Chinese Restaurant',\n",
       "         'pluralName': 'Chinese Restaurants',\n",
       "         'shortName': 'Chinese',\n",
       "         'icon': {'prefix': 'https://ss3.4sqi.net/img/categories_v2/food/asian_',\n",
       "          'suffix': '.png'},\n",
       "         'primary': True}],\n",
       "       'photos': {'count': 0, 'groups': []},\n",
       "       'venuePage': {'id': '37180640'}},\n",
       "      'referralId': 'e-0-4c3a7ee393db0f47be522592-1'},\n",
       "     {'reasons': {'count': 0,\n",
       "       'items': [{'summary': 'This spot is popular',\n",
       "         'type': 'general',\n",
       "         'reasonName': 'globalInteractionReason'}]},\n",
       "      'venue': {'id': '59c9a63b1b0ea5230ec7b7df',\n",
       "       'name': 'Beecroft Place',\n",
       "       'location': {'address': '18 Hannah St',\n",
       "        'crossStreet': 'Beecroft Rd',\n",
       "        'lat': -33.749209950377214,\n",
       "        'lng': 151.0648548603058,\n",
       "        'labeledLatLngs': [{'label': 'display',\n",
       "          'lat': -33.749209950377214,\n",
       "          'lng': 151.0648548603058}],\n",
       "        'distance': 457,\n",
       "        'postalCode': '2119',\n",
       "        'cc': 'AU',\n",
       "        'neighborhood': 'Beecroft',\n",
       "        'city': 'Sydney',\n",
       "        'state': 'NSW',\n",
       "        'country': 'Australia',\n",
       "        'formattedAddress': ['18 Hannah St (Beecroft Rd)',\n",
       "         'Sydney NSW 2119',\n",
       "         'Australia']},\n",
       "       'categories': [{'id': '4bf58dd8d48988d1fd941735',\n",
       "         'name': 'Shopping Mall',\n",
       "         'pluralName': 'Shopping Malls',\n",
       "         'shortName': 'Mall',\n",
       "         'icon': {'prefix': 'https://ss3.4sqi.net/img/categories_v2/shops/mall_',\n",
       "          'suffix': '.png'},\n",
       "         'primary': True}],\n",
       "       'photos': {'count': 0, 'groups': []}},\n",
       "      'referralId': 'e-0-59c9a63b1b0ea5230ec7b7df-2'},\n",
       "     {'reasons': {'count': 0,\n",
       "       'items': [{'summary': 'This spot is popular',\n",
       "         'type': 'general',\n",
       "         'reasonName': 'globalInteractionReason'}]},\n",
       "      'venue': {'id': '4bdb92412a3a0f474ee1afb6',\n",
       "       'name': 'Cafe Bela',\n",
       "       'location': {'address': 'Module Arcade, 2/16 Hannah St',\n",
       "        'lat': -33.749362259133854,\n",
       "        'lng': 151.06515199175556,\n",
       "        'labeledLatLngs': [{'label': 'display',\n",
       "          'lat': -33.749362259133854,\n",
       "          'lng': 151.06515199175556}],\n",
       "        'distance': 482,\n",
       "        'postalCode': '2119',\n",
       "        'cc': 'AU',\n",
       "        'state': 'New South Wales',\n",
       "        'country': 'Australia',\n",
       "        'formattedAddress': ['Module Arcade, 2/16 Hannah St',\n",
       "         'Beecroft NSW 2119',\n",
       "         'Australia']},\n",
       "       'categories': [{'id': '4bf58dd8d48988d16d941735',\n",
       "         'name': 'Café',\n",
       "         'pluralName': 'Cafés',\n",
       "         'shortName': 'Café',\n",
       "         'icon': {'prefix': 'https://ss3.4sqi.net/img/categories_v2/food/cafe_',\n",
       "          'suffix': '.png'},\n",
       "         'primary': True}],\n",
       "       'photos': {'count': 0, 'groups': []}},\n",
       "      'referralId': 'e-0-4bdb92412a3a0f474ee1afb6-3'},\n",
       "     {'reasons': {'count': 0,\n",
       "       'items': [{'summary': 'This spot is popular',\n",
       "         'type': 'general',\n",
       "         'reasonName': 'globalInteractionReason'}]},\n",
       "      'venue': {'id': '4bdb93e863c5c9b661d12868',\n",
       "       'name': 'Beehive Cafe',\n",
       "       'location': {'address': '4/1A Wongala Cct.',\n",
       "        'lat': -33.750334034562435,\n",
       "        'lng': 151.06520951769832,\n",
       "        'labeledLatLngs': [{'label': 'display',\n",
       "          'lat': -33.750334034562435,\n",
       "          'lng': 151.06520951769832}],\n",
       "        'distance': 483,\n",
       "        'postalCode': '2119',\n",
       "        'cc': 'AU',\n",
       "        'state': 'New South Wales',\n",
       "        'country': 'Australia',\n",
       "        'formattedAddress': ['4/1A Wongala Cct.',\n",
       "         'Beecroft NSW 2119',\n",
       "         'Australia']},\n",
       "       'categories': [{'id': '4bf58dd8d48988d16d941735',\n",
       "         'name': 'Café',\n",
       "         'pluralName': 'Cafés',\n",
       "         'shortName': 'Café',\n",
       "         'icon': {'prefix': 'https://ss3.4sqi.net/img/categories_v2/food/cafe_',\n",
       "          'suffix': '.png'},\n",
       "         'primary': True}],\n",
       "       'photos': {'count': 0, 'groups': []}},\n",
       "      'referralId': 'e-0-4bdb93e863c5c9b661d12868-4'},\n",
       "     {'reasons': {'count': 0,\n",
       "       'items': [{'summary': 'This spot is popular',\n",
       "         'type': 'general',\n",
       "         'reasonName': 'globalInteractionReason'}]},\n",
       "      'venue': {'id': '4cef94dc62ef6dcb6802ff59',\n",
       "       'name': 'Sevardi Cucina Italiana',\n",
       "       'location': {'address': '1/12 Hannah Street',\n",
       "        'lat': -33.74940527508759,\n",
       "        'lng': 151.06534533181434,\n",
       "        'labeledLatLngs': [{'label': 'display',\n",
       "          'lat': -33.74940527508759,\n",
       "          'lng': 151.06534533181434}],\n",
       "        'distance': 499,\n",
       "        'postalCode': '2119',\n",
       "        'cc': 'AU',\n",
       "        'state': 'New South Wales',\n",
       "        'country': 'Australia',\n",
       "        'formattedAddress': ['1/12 Hannah Street',\n",
       "         'Beecroft NSW 2119',\n",
       "         'Australia']},\n",
       "       'categories': [{'id': '4bf58dd8d48988d110941735',\n",
       "         'name': 'Italian Restaurant',\n",
       "         'pluralName': 'Italian Restaurants',\n",
       "         'shortName': 'Italian',\n",
       "         'icon': {'prefix': 'https://ss3.4sqi.net/img/categories_v2/food/italian_',\n",
       "          'suffix': '.png'},\n",
       "         'primary': True}],\n",
       "       'photos': {'count': 0, 'groups': []}},\n",
       "      'referralId': 'e-0-4cef94dc62ef6dcb6802ff59-5'},\n",
       "     {'reasons': {'count': 0,\n",
       "       'items': [{'summary': 'This spot is popular',\n",
       "         'type': 'general',\n",
       "         'reasonName': 'globalInteractionReason'}]},\n",
       "      'venue': {'id': '4b64e1daf964a52030d72ae3',\n",
       "       'name': 'Beecroft Gourmet Chicken & Salads',\n",
       "       'location': {'address': '14A Hannah St.',\n",
       "        'lat': -33.749413,\n",
       "        'lng': 151.065347,\n",
       "        'labeledLatLngs': [{'label': 'display',\n",
       "          'lat': -33.749413,\n",
       "          'lng': 151.065347}],\n",
       "        'distance': 499,\n",
       "        'postalCode': '2119',\n",
       "        'cc': 'AU',\n",
       "        'state': 'New South Wales',\n",
       "        'country': 'Australia',\n",
       "        'formattedAddress': ['14A Hannah St.',\n",
       "         'Beecroft NSW 2119',\n",
       "         'Australia']},\n",
       "       'categories': [{'id': '4bf58dd8d48988d16e941735',\n",
       "         'name': 'Fast Food Restaurant',\n",
       "         'pluralName': 'Fast Food Restaurants',\n",
       "         'shortName': 'Fast Food',\n",
       "         'icon': {'prefix': 'https://ss3.4sqi.net/img/categories_v2/food/fastfood_',\n",
       "          'suffix': '.png'},\n",
       "         'primary': True}],\n",
       "       'photos': {'count': 0, 'groups': []}},\n",
       "      'referralId': 'e-0-4b64e1daf964a52030d72ae3-6'}]}]}}"
      ]
     },
     "execution_count": 71,
     "metadata": {},
     "output_type": "execute_result"
    }
   ],
   "source": [
    "results = requests.get(url).json()\n",
    "results"
   ]
  },
  {
   "cell_type": "markdown",
   "metadata": {},
   "source": [
    "let's borrow the get_category_type function from the Foursquare lab."
   ]
  },
  {
   "cell_type": "code",
   "execution_count": 72,
   "metadata": {},
   "outputs": [],
   "source": [
    "# function that extracts the category of the venue\n",
    "def get_category_type(row):\n",
    "    try:\n",
    "        categories_list = row['categories']\n",
    "    except:\n",
    "        categories_list = row['venue.categories']\n",
    "        \n",
    "    if len(categories_list) == 0:\n",
    "        return None\n",
    "    else:\n",
    "        return categories_list[0]['name']"
   ]
  },
  {
   "cell_type": "markdown",
   "metadata": {},
   "source": [
    "Now we are ready to clean the json and structure it into a pandas dataframe."
   ]
  },
  {
   "cell_type": "code",
   "execution_count": 73,
   "metadata": {},
   "outputs": [
    {
     "data": {
      "text/html": [
       "<div>\n",
       "<style scoped>\n",
       "    .dataframe tbody tr th:only-of-type {\n",
       "        vertical-align: middle;\n",
       "    }\n",
       "\n",
       "    .dataframe tbody tr th {\n",
       "        vertical-align: top;\n",
       "    }\n",
       "\n",
       "    .dataframe thead th {\n",
       "        text-align: right;\n",
       "    }\n",
       "</style>\n",
       "<table border=\"1\" class=\"dataframe\">\n",
       "  <thead>\n",
       "    <tr style=\"text-align: right;\">\n",
       "      <th></th>\n",
       "      <th>name</th>\n",
       "      <th>categories</th>\n",
       "      <th>lat</th>\n",
       "      <th>lng</th>\n",
       "    </tr>\n",
       "  </thead>\n",
       "  <tbody>\n",
       "    <tr>\n",
       "      <th>0</th>\n",
       "      <td>Woolworths</td>\n",
       "      <td>Supermarket</td>\n",
       "      <td>-33.749232</td>\n",
       "      <td>151.065080</td>\n",
       "    </tr>\n",
       "    <tr>\n",
       "      <th>1</th>\n",
       "      <td>Yummy Kitchens</td>\n",
       "      <td>Chinese Restaurant</td>\n",
       "      <td>-33.750190</td>\n",
       "      <td>151.064923</td>\n",
       "    </tr>\n",
       "    <tr>\n",
       "      <th>2</th>\n",
       "      <td>Beecroft Place</td>\n",
       "      <td>Shopping Mall</td>\n",
       "      <td>-33.749210</td>\n",
       "      <td>151.064855</td>\n",
       "    </tr>\n",
       "    <tr>\n",
       "      <th>3</th>\n",
       "      <td>Cafe Bela</td>\n",
       "      <td>Café</td>\n",
       "      <td>-33.749362</td>\n",
       "      <td>151.065152</td>\n",
       "    </tr>\n",
       "    <tr>\n",
       "      <th>4</th>\n",
       "      <td>Beehive Cafe</td>\n",
       "      <td>Café</td>\n",
       "      <td>-33.750334</td>\n",
       "      <td>151.065210</td>\n",
       "    </tr>\n",
       "  </tbody>\n",
       "</table>\n",
       "</div>"
      ],
      "text/plain": [
       "             name          categories        lat         lng\n",
       "0      Woolworths         Supermarket -33.749232  151.065080\n",
       "1  Yummy Kitchens  Chinese Restaurant -33.750190  151.064923\n",
       "2  Beecroft Place       Shopping Mall -33.749210  151.064855\n",
       "3       Cafe Bela                Café -33.749362  151.065152\n",
       "4    Beehive Cafe                Café -33.750334  151.065210"
      ]
     },
     "execution_count": 73,
     "metadata": {},
     "output_type": "execute_result"
    }
   ],
   "source": [
    "venues = results['response']['groups'][0]['items']\n",
    "    \n",
    "nearby_venues = json_normalize(venues) # flatten JSON\n",
    "\n",
    "# filter columns\n",
    "filtered_columns = ['venue.name', 'venue.categories', 'venue.location.lat', 'venue.location.lng']\n",
    "nearby_venues =nearby_venues.loc[:, filtered_columns]\n",
    "\n",
    "# filter the category for each row\n",
    "nearby_venues['venue.categories'] = nearby_venues.apply(get_category_type, axis=1)\n",
    "\n",
    "# clean columns\n",
    "nearby_venues.columns = [col.split(\".\")[-1] for col in nearby_venues.columns]\n",
    "\n",
    "nearby_venues.head()"
   ]
  },
  {
   "cell_type": "markdown",
   "metadata": {},
   "source": [
    "And how many venues were returned by Foursquare?"
   ]
  },
  {
   "cell_type": "code",
   "execution_count": 74,
   "metadata": {},
   "outputs": [
    {
     "name": "stdout",
     "output_type": "stream",
     "text": [
      "7 venues were returned by Foursquare.\n"
     ]
    }
   ],
   "source": [
    "print('{} venues were returned by Foursquare.'.format(nearby_venues.shape[0]))"
   ]
  },
  {
   "cell_type": "markdown",
   "metadata": {},
   "source": [
    "## 2. Explore Neighborhoods in Beecroft"
   ]
  },
  {
   "cell_type": "markdown",
   "metadata": {},
   "source": [
    "#### Let's create a function to repeat the same process to all the neighborhoods in Beecroft"
   ]
  },
  {
   "cell_type": "code",
   "execution_count": 75,
   "metadata": {},
   "outputs": [],
   "source": [
    "def getNearbyVenues(names, latitudes, longitudes, radius=500):\n",
    "    \n",
    "    venues_list=[]\n",
    "    for name, lat, lng in zip(names, latitudes, longitudes):\n",
    "        print(name)\n",
    "            \n",
    "        # create the API request URL\n",
    "        url = 'https://api.foursquare.com/v2/venues/explore?&client_id={}&client_secret={}&v={}&ll={},{}&radius={}&limit={}'.format(\n",
    "            CLIENT_ID, \n",
    "            CLIENT_SECRET, \n",
    "            VERSION, \n",
    "            lat, \n",
    "            lng, \n",
    "            radius, \n",
    "            LIMIT)\n",
    "            \n",
    "        # make the GET request\n",
    "        results = requests.get(url).json()[\"response\"]['groups'][0]['items']\n",
    "        \n",
    "        # return only relevant information for each nearby venue\n",
    "        venues_list.append([(\n",
    "            name, \n",
    "            lat, \n",
    "            lng, \n",
    "            v['venue']['name'], \n",
    "            v['venue']['location']['lat'], \n",
    "            v['venue']['location']['lng'],  \n",
    "            v['venue']['categories'][0]['name']) for v in results])\n",
    "\n",
    "    nearby_venues = pd.DataFrame([item for venue_list in venues_list for item in venue_list])\n",
    "    nearby_venues.columns = ['Neighborhood', \n",
    "                  'Neighborhood Latitude', \n",
    "                  'Neighborhood Longitude', \n",
    "                  'Venue', \n",
    "                  'Venue Latitude', \n",
    "                  'Venue Longitude', \n",
    "                  'Venue Category']\n",
    "    \n",
    "    return(nearby_venues)"
   ]
  },
  {
   "cell_type": "markdown",
   "metadata": {},
   "source": [
    "#### Now write the code to run the above function on each neighborhood and create a new dataframe called *beecroft_venues*."
   ]
  },
  {
   "cell_type": "code",
   "execution_count": 82,
   "metadata": {},
   "outputs": [
    {
     "name": "stdout",
     "output_type": "stream",
     "text": [
      "Beecroft\n",
      "Cheltenham\n"
     ]
    }
   ],
   "source": [
    "neighborhoods = df[df['postcode'] == 2119].reset_index(drop=True)\n",
    "neighborhoods.head()\n",
    "\n",
    "\n",
    "beecroft_venues = getNearbyVenues(names=neighborhoods['suburb'],\n",
    "                                   latitudes=neighborhoods['latitude'],\n",
    "                                   longitudes=neighborhoods['longitude']\n",
    "                                  )\n"
   ]
  },
  {
   "cell_type": "code",
   "execution_count": 83,
   "metadata": {},
   "outputs": [
    {
     "name": "stdout",
     "output_type": "stream",
     "text": [
      "(14, 7)\n"
     ]
    },
    {
     "data": {
      "text/html": [
       "<div>\n",
       "<style scoped>\n",
       "    .dataframe tbody tr th:only-of-type {\n",
       "        vertical-align: middle;\n",
       "    }\n",
       "\n",
       "    .dataframe tbody tr th {\n",
       "        vertical-align: top;\n",
       "    }\n",
       "\n",
       "    .dataframe thead th {\n",
       "        text-align: right;\n",
       "    }\n",
       "</style>\n",
       "<table border=\"1\" class=\"dataframe\">\n",
       "  <thead>\n",
       "    <tr style=\"text-align: right;\">\n",
       "      <th></th>\n",
       "      <th>Neighborhood</th>\n",
       "      <th>Neighborhood Latitude</th>\n",
       "      <th>Neighborhood Longitude</th>\n",
       "      <th>Venue</th>\n",
       "      <th>Venue Latitude</th>\n",
       "      <th>Venue Longitude</th>\n",
       "      <th>Venue Category</th>\n",
       "    </tr>\n",
       "  </thead>\n",
       "  <tbody>\n",
       "    <tr>\n",
       "      <th>0</th>\n",
       "      <td>Beecroft</td>\n",
       "      <td>-33.75</td>\n",
       "      <td>151.06</td>\n",
       "      <td>Woolworths</td>\n",
       "      <td>-33.749232</td>\n",
       "      <td>151.065080</td>\n",
       "      <td>Supermarket</td>\n",
       "    </tr>\n",
       "    <tr>\n",
       "      <th>1</th>\n",
       "      <td>Beecroft</td>\n",
       "      <td>-33.75</td>\n",
       "      <td>151.06</td>\n",
       "      <td>Yummy Kitchens</td>\n",
       "      <td>-33.750190</td>\n",
       "      <td>151.064923</td>\n",
       "      <td>Chinese Restaurant</td>\n",
       "    </tr>\n",
       "    <tr>\n",
       "      <th>2</th>\n",
       "      <td>Beecroft</td>\n",
       "      <td>-33.75</td>\n",
       "      <td>151.06</td>\n",
       "      <td>Beecroft Place</td>\n",
       "      <td>-33.749210</td>\n",
       "      <td>151.064855</td>\n",
       "      <td>Shopping Mall</td>\n",
       "    </tr>\n",
       "    <tr>\n",
       "      <th>3</th>\n",
       "      <td>Beecroft</td>\n",
       "      <td>-33.75</td>\n",
       "      <td>151.06</td>\n",
       "      <td>Cafe Bela</td>\n",
       "      <td>-33.749362</td>\n",
       "      <td>151.065152</td>\n",
       "      <td>Café</td>\n",
       "    </tr>\n",
       "    <tr>\n",
       "      <th>4</th>\n",
       "      <td>Beecroft</td>\n",
       "      <td>-33.75</td>\n",
       "      <td>151.06</td>\n",
       "      <td>Beehive Cafe</td>\n",
       "      <td>-33.750334</td>\n",
       "      <td>151.065210</td>\n",
       "      <td>Café</td>\n",
       "    </tr>\n",
       "  </tbody>\n",
       "</table>\n",
       "</div>"
      ],
      "text/plain": [
       "  Neighborhood  Neighborhood Latitude  Neighborhood Longitude           Venue  \\\n",
       "0     Beecroft                 -33.75                  151.06      Woolworths   \n",
       "1     Beecroft                 -33.75                  151.06  Yummy Kitchens   \n",
       "2     Beecroft                 -33.75                  151.06  Beecroft Place   \n",
       "3     Beecroft                 -33.75                  151.06       Cafe Bela   \n",
       "4     Beecroft                 -33.75                  151.06    Beehive Cafe   \n",
       "\n",
       "   Venue Latitude  Venue Longitude      Venue Category  \n",
       "0      -33.749232       151.065080         Supermarket  \n",
       "1      -33.750190       151.064923  Chinese Restaurant  \n",
       "2      -33.749210       151.064855       Shopping Mall  \n",
       "3      -33.749362       151.065152                Café  \n",
       "4      -33.750334       151.065210                Café  "
      ]
     },
     "execution_count": 83,
     "metadata": {},
     "output_type": "execute_result"
    }
   ],
   "source": [
    "print(beecroft_venues.shape)\n",
    "beecroft_venues.head()"
   ]
  },
  {
   "cell_type": "code",
   "execution_count": 84,
   "metadata": {},
   "outputs": [
    {
     "data": {
      "text/html": [
       "<div>\n",
       "<style scoped>\n",
       "    .dataframe tbody tr th:only-of-type {\n",
       "        vertical-align: middle;\n",
       "    }\n",
       "\n",
       "    .dataframe tbody tr th {\n",
       "        vertical-align: top;\n",
       "    }\n",
       "\n",
       "    .dataframe thead th {\n",
       "        text-align: right;\n",
       "    }\n",
       "</style>\n",
       "<table border=\"1\" class=\"dataframe\">\n",
       "  <thead>\n",
       "    <tr style=\"text-align: right;\">\n",
       "      <th></th>\n",
       "      <th>Neighborhood Latitude</th>\n",
       "      <th>Neighborhood Longitude</th>\n",
       "      <th>Venue</th>\n",
       "      <th>Venue Latitude</th>\n",
       "      <th>Venue Longitude</th>\n",
       "      <th>Venue Category</th>\n",
       "    </tr>\n",
       "    <tr>\n",
       "      <th>Neighborhood</th>\n",
       "      <th></th>\n",
       "      <th></th>\n",
       "      <th></th>\n",
       "      <th></th>\n",
       "      <th></th>\n",
       "      <th></th>\n",
       "    </tr>\n",
       "  </thead>\n",
       "  <tbody>\n",
       "    <tr>\n",
       "      <th>Beecroft</th>\n",
       "      <td>7</td>\n",
       "      <td>7</td>\n",
       "      <td>7</td>\n",
       "      <td>7</td>\n",
       "      <td>7</td>\n",
       "      <td>7</td>\n",
       "    </tr>\n",
       "    <tr>\n",
       "      <th>Cheltenham</th>\n",
       "      <td>7</td>\n",
       "      <td>7</td>\n",
       "      <td>7</td>\n",
       "      <td>7</td>\n",
       "      <td>7</td>\n",
       "      <td>7</td>\n",
       "    </tr>\n",
       "  </tbody>\n",
       "</table>\n",
       "</div>"
      ],
      "text/plain": [
       "              Neighborhood Latitude  Neighborhood Longitude  Venue  \\\n",
       "Neighborhood                                                         \n",
       "Beecroft                          7                       7      7   \n",
       "Cheltenham                        7                       7      7   \n",
       "\n",
       "              Venue Latitude  Venue Longitude  Venue Category  \n",
       "Neighborhood                                                   \n",
       "Beecroft                   7                7               7  \n",
       "Cheltenham                 7                7               7  "
      ]
     },
     "execution_count": 84,
     "metadata": {},
     "output_type": "execute_result"
    }
   ],
   "source": [
    "beecroft_venues.groupby('Neighborhood').count()"
   ]
  },
  {
   "cell_type": "code",
   "execution_count": null,
   "metadata": {},
   "outputs": [],
   "source": []
  },
  {
   "cell_type": "code",
   "execution_count": 85,
   "metadata": {},
   "outputs": [
    {
     "name": "stdout",
     "output_type": "stream",
     "text": [
      "There are 6 uniques categories.\n"
     ]
    }
   ],
   "source": [
    "print('There are {} uniques categories.'.format(len(beecroft_venues['Venue Category'].unique())))"
   ]
  },
  {
   "cell_type": "code",
   "execution_count": 88,
   "metadata": {},
   "outputs": [
    {
     "data": {
      "text/html": [
       "<div>\n",
       "<style scoped>\n",
       "    .dataframe tbody tr th:only-of-type {\n",
       "        vertical-align: middle;\n",
       "    }\n",
       "\n",
       "    .dataframe tbody tr th {\n",
       "        vertical-align: top;\n",
       "    }\n",
       "\n",
       "    .dataframe thead th {\n",
       "        text-align: right;\n",
       "    }\n",
       "</style>\n",
       "<table border=\"1\" class=\"dataframe\">\n",
       "  <thead>\n",
       "    <tr style=\"text-align: right;\">\n",
       "      <th></th>\n",
       "      <th>Supermarket</th>\n",
       "      <th>Neighborhood</th>\n",
       "      <th>Café</th>\n",
       "      <th>Chinese Restaurant</th>\n",
       "      <th>Fast Food Restaurant</th>\n",
       "      <th>Italian Restaurant</th>\n",
       "      <th>Shopping Mall</th>\n",
       "    </tr>\n",
       "  </thead>\n",
       "  <tbody>\n",
       "    <tr>\n",
       "      <th>0</th>\n",
       "      <td>1</td>\n",
       "      <td>Beecroft</td>\n",
       "      <td>0</td>\n",
       "      <td>0</td>\n",
       "      <td>0</td>\n",
       "      <td>0</td>\n",
       "      <td>0</td>\n",
       "    </tr>\n",
       "    <tr>\n",
       "      <th>1</th>\n",
       "      <td>0</td>\n",
       "      <td>Beecroft</td>\n",
       "      <td>0</td>\n",
       "      <td>1</td>\n",
       "      <td>0</td>\n",
       "      <td>0</td>\n",
       "      <td>0</td>\n",
       "    </tr>\n",
       "    <tr>\n",
       "      <th>2</th>\n",
       "      <td>0</td>\n",
       "      <td>Beecroft</td>\n",
       "      <td>0</td>\n",
       "      <td>0</td>\n",
       "      <td>0</td>\n",
       "      <td>0</td>\n",
       "      <td>1</td>\n",
       "    </tr>\n",
       "    <tr>\n",
       "      <th>3</th>\n",
       "      <td>0</td>\n",
       "      <td>Beecroft</td>\n",
       "      <td>1</td>\n",
       "      <td>0</td>\n",
       "      <td>0</td>\n",
       "      <td>0</td>\n",
       "      <td>0</td>\n",
       "    </tr>\n",
       "    <tr>\n",
       "      <th>4</th>\n",
       "      <td>0</td>\n",
       "      <td>Beecroft</td>\n",
       "      <td>1</td>\n",
       "      <td>0</td>\n",
       "      <td>0</td>\n",
       "      <td>0</td>\n",
       "      <td>0</td>\n",
       "    </tr>\n",
       "    <tr>\n",
       "      <th>5</th>\n",
       "      <td>0</td>\n",
       "      <td>Beecroft</td>\n",
       "      <td>0</td>\n",
       "      <td>0</td>\n",
       "      <td>0</td>\n",
       "      <td>1</td>\n",
       "      <td>0</td>\n",
       "    </tr>\n",
       "    <tr>\n",
       "      <th>6</th>\n",
       "      <td>0</td>\n",
       "      <td>Beecroft</td>\n",
       "      <td>0</td>\n",
       "      <td>0</td>\n",
       "      <td>1</td>\n",
       "      <td>0</td>\n",
       "      <td>0</td>\n",
       "    </tr>\n",
       "    <tr>\n",
       "      <th>7</th>\n",
       "      <td>1</td>\n",
       "      <td>Cheltenham</td>\n",
       "      <td>0</td>\n",
       "      <td>0</td>\n",
       "      <td>0</td>\n",
       "      <td>0</td>\n",
       "      <td>0</td>\n",
       "    </tr>\n",
       "    <tr>\n",
       "      <th>8</th>\n",
       "      <td>0</td>\n",
       "      <td>Cheltenham</td>\n",
       "      <td>0</td>\n",
       "      <td>1</td>\n",
       "      <td>0</td>\n",
       "      <td>0</td>\n",
       "      <td>0</td>\n",
       "    </tr>\n",
       "    <tr>\n",
       "      <th>9</th>\n",
       "      <td>0</td>\n",
       "      <td>Cheltenham</td>\n",
       "      <td>0</td>\n",
       "      <td>0</td>\n",
       "      <td>0</td>\n",
       "      <td>0</td>\n",
       "      <td>1</td>\n",
       "    </tr>\n",
       "    <tr>\n",
       "      <th>10</th>\n",
       "      <td>0</td>\n",
       "      <td>Cheltenham</td>\n",
       "      <td>1</td>\n",
       "      <td>0</td>\n",
       "      <td>0</td>\n",
       "      <td>0</td>\n",
       "      <td>0</td>\n",
       "    </tr>\n",
       "    <tr>\n",
       "      <th>11</th>\n",
       "      <td>0</td>\n",
       "      <td>Cheltenham</td>\n",
       "      <td>1</td>\n",
       "      <td>0</td>\n",
       "      <td>0</td>\n",
       "      <td>0</td>\n",
       "      <td>0</td>\n",
       "    </tr>\n",
       "    <tr>\n",
       "      <th>12</th>\n",
       "      <td>0</td>\n",
       "      <td>Cheltenham</td>\n",
       "      <td>0</td>\n",
       "      <td>0</td>\n",
       "      <td>0</td>\n",
       "      <td>1</td>\n",
       "      <td>0</td>\n",
       "    </tr>\n",
       "    <tr>\n",
       "      <th>13</th>\n",
       "      <td>0</td>\n",
       "      <td>Cheltenham</td>\n",
       "      <td>0</td>\n",
       "      <td>0</td>\n",
       "      <td>1</td>\n",
       "      <td>0</td>\n",
       "      <td>0</td>\n",
       "    </tr>\n",
       "  </tbody>\n",
       "</table>\n",
       "</div>"
      ],
      "text/plain": [
       "    Supermarket Neighborhood  Café  Chinese Restaurant  Fast Food Restaurant  \\\n",
       "0             1     Beecroft     0                   0                     0   \n",
       "1             0     Beecroft     0                   1                     0   \n",
       "2             0     Beecroft     0                   0                     0   \n",
       "3             0     Beecroft     1                   0                     0   \n",
       "4             0     Beecroft     1                   0                     0   \n",
       "5             0     Beecroft     0                   0                     0   \n",
       "6             0     Beecroft     0                   0                     1   \n",
       "7             1   Cheltenham     0                   0                     0   \n",
       "8             0   Cheltenham     0                   1                     0   \n",
       "9             0   Cheltenham     0                   0                     0   \n",
       "10            0   Cheltenham     1                   0                     0   \n",
       "11            0   Cheltenham     1                   0                     0   \n",
       "12            0   Cheltenham     0                   0                     0   \n",
       "13            0   Cheltenham     0                   0                     1   \n",
       "\n",
       "    Italian Restaurant  Shopping Mall  \n",
       "0                    0              0  \n",
       "1                    0              0  \n",
       "2                    0              1  \n",
       "3                    0              0  \n",
       "4                    0              0  \n",
       "5                    1              0  \n",
       "6                    0              0  \n",
       "7                    0              0  \n",
       "8                    0              0  \n",
       "9                    0              1  \n",
       "10                   0              0  \n",
       "11                   0              0  \n",
       "12                   1              0  \n",
       "13                   0              0  "
      ]
     },
     "execution_count": 88,
     "metadata": {},
     "output_type": "execute_result"
    }
   ],
   "source": [
    "# one hot encoding\n",
    "beecrof_onehot = pd.get_dummies(beecroft_venues[['Venue Category']], prefix=\"\", prefix_sep=\"\")\n",
    "\n",
    "# add neighborhood column back to dataframe\n",
    "beecrof_onehot['Neighborhood'] = beecroft_venues['Neighborhood'] \n",
    "\n",
    "# move neighborhood column to the first column\n",
    "fixed_columns = [manhattan_onehot.columns[-1]] + list(manhattan_onehot.columns[:-1])\n",
    "beecrof_onehot = manhattan_onehot[fixed_columns]\n",
    "\n",
    "beecrof_onehot"
   ]
  },
  {
   "cell_type": "code",
   "execution_count": null,
   "metadata": {},
   "outputs": [],
   "source": []
  }
 ],
 "metadata": {
  "kernelspec": {
   "display_name": "Python 3",
   "language": "python",
   "name": "python3"
  },
  "language_info": {
   "codemirror_mode": {
    "name": "ipython",
    "version": 3
   },
   "file_extension": ".py",
   "mimetype": "text/x-python",
   "name": "python",
   "nbconvert_exporter": "python",
   "pygments_lexer": "ipython3",
   "version": "3.6.5"
  }
 },
 "nbformat": 4,
 "nbformat_minor": 2
}
